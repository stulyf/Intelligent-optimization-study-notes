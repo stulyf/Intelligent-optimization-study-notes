{
 "cells": [
  {
   "cell_type": "markdown",
   "metadata": {},
   "source": [
    "# 强化学习(reforcement learning)\n",
    "\n"
   ]
  },
  {
   "cell_type": "markdown",
   "metadata": {},
   "source": [
    "## 基本概念"
   ]
  },
  {
   "cell_type": "markdown",
   "metadata": {},
   "source": [
    "什么是强化学习 ？ \n",
    "\n",
    "强化学习是机器学习的一个分支，它通过研究智能体在环境中通过试错学习来最大化积累奖励，通过行动（Action）来获得反馈（reward），从这些经验获取最优策略，"
   ]
  },
  {
   "cell_type": "markdown",
   "metadata": {},
   "source": [
    "### 马尔可夫决策过程 （MDP） ： 马尔可夫决策过程是强化学习的数学框架，用于描述智能体与环境交互的决策问题\n"
   ]
  },
  {
   "cell_type": "markdown",
   "metadata": {},
   "source": [
    "MDP是一个五元组 $(S, A, P, R, \\gamma)$：\n",
    "- $S$：状态空间，所有可能状态的集合\n",
    "- $A$：动作空间，所有可能动作的集合\n",
    "- $P$：状态转移概率函数，$P(s'|s,a)$ 表示在状态$s$下执行动作$a$后转移到状态$s'$的概率\n",
    "- $R$：奖励函数，$R(s,a,s')$ 表示从状态$s$执行动作$a$转移到状态$s'$获得的奖励\n",
    "- $\\gamma$：折扣因子，用于平衡即时奖励与未来奖励的重要性，取值范围为[0,1]"
   ]
  },
  {
   "cell_type": "markdown",
   "metadata": {},
   "source": [
    "### 一些强化学习的基本算法"
   ]
  },
  {
   "cell_type": "markdown",
   "metadata": {},
   "source": [
    "什么是策略迭代？\n",
    "\n",
    "策略迭代的核心思想是 ： 先评估当前策略的价值，然后基于这个价值函数改进策略，如此反复直到策略稳定\n",
    "\n",
    "策略迭代算法分为两个部分，一个是对当前策略价值的估计\n",
    "\n",
    "$$V(s) \\leftarrow \\sum_{a} \\pi(a|s) \\sum_{s'} P(s'|s,a) [R(s,a,s') + \\gamma V(s')]$$\n",
    "\n",
    "这个方程基于贝尔曼期望方程，表示在策略$\\pi$ 下，状态s的价值等于改状态下采取各种动作的期望汇报\n",
    "\n",
    "一个是对当前策略的改进 ： \n",
    "\n",
    "$$\\pi'(s) \\leftarrow \\arg\\max_{a} \\sum_{s'} P(s'|s,a) [R(s,a,s') + \\gamma V(s')]$$\n",
    "\n",
    "终止条件是当函数收敛到全局最优的时候，就能返回最优策略和最优价值函数"
   ]
  },
  {
   "cell_type": "markdown",
   "metadata": {},
   "source": [
    "什么是值迭代 ？ \n",
    "\n",
    "通过贝尔曼最优方程直接迭代更新值函数，直到收敛，然后从最优值函数中提取最优策略\n",
    "\n",
    "贝尔曼最优方程 ：\n",
    "\n",
    "$$V(s) = \\max_a \\sum{s'} P(s'|s,a) [R(s,a,s') + \\gamma V(s')]$$"
   ]
  }
 ],
 "metadata": {
  "kernelspec": {
   "display_name": "Python 3",
   "language": "python",
   "name": "python3"
  },
  "language_info": {
   "codemirror_mode": {
    "name": "ipython",
    "version": 3
   },
   "file_extension": ".py",
   "mimetype": "text/x-python",
   "name": "python",
   "nbconvert_exporter": "python",
   "pygments_lexer": "ipython3",
   "version": "3.11.4"
  }
 },
 "nbformat": 4,
 "nbformat_minor": 2
}
