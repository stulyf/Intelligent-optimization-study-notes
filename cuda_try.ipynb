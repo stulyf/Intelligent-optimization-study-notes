{
 "cells": [
  {
   "cell_type": "code",
   "execution_count": 1,
   "metadata": {},
   "outputs": [
    {
     "name": "stdout",
     "output_type": "stream",
     "text": [
      "CUDA是否可用: True\n",
      "CUDA设备数量: 1\n",
      "当前CUDA设备: 0\n",
      "CUDA设备名称: NVIDIA GeForce RTX 4060 Laptop GPU\n",
      "Tensor设备: cuda:0\n"
     ]
    }
   ],
   "source": [
    "import torch\n",
    "\n",
    "# 检查CUDA是否可用\n",
    "print(f\"CUDA是否可用: {torch.cuda.is_available()}\")\n",
    "\n",
    "# 如果可用，显示GPU信息\n",
    "if torch.cuda.is_available():\n",
    "    print(f\"CUDA设备数量: {torch.cuda.device_count()}\")\n",
    "    print(f\"当前CUDA设备: {torch.cuda.current_device()}\")\n",
    "    print(f\"CUDA设备名称: {torch.cuda.get_device_name(0)}\")\n",
    "    \n",
    "    # 创建一个tensor并移至GPU\n",
    "    x = torch.tensor([1.0, 2.0, 3.0])\n",
    "    x = x.cuda()  # 或使用 x = x.to('cuda')\n",
    "    print(f\"Tensor设备: {x.device}\")\n",
    "else:\n",
    "    print(\"GPU不可用，PyTorch将使用CPU\")"
   ]
  }
 ],
 "metadata": {
  "kernelspec": {
   "display_name": "Python 3",
   "language": "python",
   "name": "python3"
  },
  "language_info": {
   "codemirror_mode": {
    "name": "ipython",
    "version": 3
   },
   "file_extension": ".py",
   "mimetype": "text/x-python",
   "name": "python",
   "nbconvert_exporter": "python",
   "pygments_lexer": "ipython3",
   "version": "3.11.4"
  }
 },
 "nbformat": 4,
 "nbformat_minor": 2
}
