{
 "cells": [
  {
   "cell_type": "markdown",
   "metadata": {},
   "source": [
    "Title :  Attention , learning to solve routing problems"
   ]
  },
  {
   "cell_type": "markdown",
   "metadata": {},
   "source": [
    "第一遍阅读 ： \n",
    "\n",
    "摘要 ： 利用机器学习方法来发现组合优化问题的启发式算法是一个有前景的研究方向，但是还是面临两个问题，一个是需要更好的模型架构，一个是需要更加有效的训练方法。这个论文做的两个工作就是提出了一个基于注意力层的模型，模型较于之前的点网络有着显著的优势，一个是使用reinforce算法结合“确定贪婪回滚”基线进行训练，实验的结果是显著改进了旅行商问题的学习型启发式算法性能，最终达到的结果是优于基础基线，同时为所有的特定模型提供了一个通用的方法\n",
    "\n",
    "对于摘要的问题 ： \n",
    "\n",
    "什么是reinforce？什么是点网络？\n",
    "\n",
    "结论 ： 这篇论文觉得自己的贡献主要在于显著改进了学习型启发式算法在旅行商问题\n",
    "\n",
    "\n"
   ]
  }
 ],
 "metadata": {
  "kernelspec": {
   "display_name": "Python 3",
   "language": "python",
   "name": "python3"
  },
  "language_info": {
   "name": "python",
   "version": "3.11.4"
  }
 },
 "nbformat": 4,
 "nbformat_minor": 2
}
