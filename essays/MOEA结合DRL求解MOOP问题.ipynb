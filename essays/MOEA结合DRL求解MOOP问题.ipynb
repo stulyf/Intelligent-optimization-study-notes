{
 "cells": [
  {
   "cell_type": "markdown",
   "metadata": {},
   "source": [
    "Title : Hybridization of Evolutionary Algorithm and Deep Reinforcement Learning for Multiobjective Orienteering Optimization\n"
   ]
  },
  {
   "cell_type": "markdown",
   "metadata": {},
   "source": [
    "\n",
    "问题设定 ： 每个节点有多重方面的利润，例如文化和经济利润，车辆通过在约束条件下访问节点，达到最大化利润的目的\n",
    "\n",
    "历史方法 ： 一系列多目标启发式方法，多目标蚁群算法是当前最广泛使用的方法，但是存在一定局限性，需要大量迭代才能找到全局最优解，在大规模示例中运行时间很长，同时算子需要精心设计\n",
    "\n",
    "当前方法和创新点 ：将问题分解为MOKP和TSP问题，提出一个混合优化框架，用MOEA来解决MOKP问题，用DRL来解决TSP问题\n",
    "\n",
    "DRL 方法的好处和局限性 ：对不同规模的实例泛化性很好，但是训练消耗资源和时间很长，但是因为是端到端的，所以输出速度很快   \n",
    "\n",
    "使用指针网络（PN）求解TSP问题"
   ]
  },
  {
   "cell_type": "markdown",
   "metadata": {},
   "source": [
    "算法流程 ：\n",
    "\n",
    "1. 用REINFORCE算法训练DRL模型，这个DRL模型用于求解TSP问题\n",
    "\n",
    "2. 初始化种群 ：创建初始种群，种群里面的每个个体代表城市选择方案\n",
    "\n",
    "3. 主循环 ：\n",
    "        * 路径生成 ：使用DRL模型为当前种群中的城市选择方案生成最优路径\n",
    "        * 种群进化 ：使用MOEA根据路径信息更新种群 -》 就是将每个个体的行程长度应用到约束条件函数和目标函数中\n",
    "        \n",
    "4.最终生成路径和解决方案\n",
    "\n",
    "\n",
    "求出访问的城市 - 》 满足约束，优化最大利润的目标\n",
    "\n",
    "规划路径 - 》优化最小化路径距离的目标"
   ]
  },
  {
   "cell_type": "markdown",
   "metadata": {},
   "source": [
    "MOEA for MOKP \n",
    "\n",
    "使用的算法  ： NSGA -Ⅲ （ 对于多目标优化问题 ，基于解的帕累托关系和解的拥挤度来参考解）\n",
    "\n",
    "创新点一 ： 用于初始化种群的贪婪启发式算法 ：基于利润密度逐步选择城市\n",
    "\n",
    "利润密度计算 ：例如当前的城市为i，利润密度ij指的是城市利润j与城市i到城市j欧式距离的比值\n",
    "\n",
    "创新点二 ：为25%使用随机初始化策略，为这些随机选择3/N个城市 -》 保留解的多样性\n",
    "\n"
   ]
  },
  {
   "cell_type": "markdown",
   "metadata": {},
   "source": [
    "PN for TSP\n",
    "\n",
    "编码器 ：对距离向量编码 - 》 "
   ]
  }
 ],
 "metadata": {
  "kernelspec": {
   "display_name": "Python 3",
   "language": "python",
   "name": "python3"
  },
  "language_info": {
   "name": "python",
   "version": "3.11.4"
  }
 },
 "nbformat": 4,
 "nbformat_minor": 2
}
