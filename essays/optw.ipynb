{
 "cells": [
  {
   "cell_type": "markdown",
   "metadata": {},
   "source": [
    "## 论文标题 ：A reinforcement learning approach to the orienteering problem with time windows "
   ]
  },
  {
   "cell_type": "markdown",
   "metadata": {},
   "source": [
    "摘要部分 ：OPTW问题 ：每个节点带时间窗，访问节点使得最大化总收益\n",
    "        \n",
    "        神经网络算法\n",
    "\n",
    "        实际应用可以用在旅行设计\n",
    "\n",
    "\n",
    "        Q：  beam search  ？ 指针网络 ？\n",
    "\n",
    "        beam search ：对于当前步生成的可能路径，保留得分最高的前k中路径；\n",
    "                      对这k种路径，生成下一步的解，每个路径生成的解选择min（解数量，k）个解\n",
    "                      ...\n",
    "                      最后选择得分最高的解\n",
    "\n",
    "        好处是能够减少计算开销的同时，不遗漏高质量解\n",
    "\n",
    "        指针网络 ： 1.先将输出的所有信息编码成一组向量\n",
    "                   2.通过注意力机制，选出第一个要节点\n",
    "                   3.结合已经选过的点，重新计算剩余节点的注意力得分，选出下一个景点\n",
    "                   4.直到所有节点被选完，或者是时间用完\n",
    "\n",
    "\n",
    "                  "
   ]
  }
 ],
 "metadata": {
  "kernelspec": {
   "display_name": "Python 3",
   "language": "python",
   "name": "python3"
  },
  "language_info": {
   "name": "python",
   "version": "3.11.4"
  }
 },
 "nbformat": 4,
 "nbformat_minor": 2
}
