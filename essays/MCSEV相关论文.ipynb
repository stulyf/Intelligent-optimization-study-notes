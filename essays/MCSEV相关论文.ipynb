{
 "cells": [
  {
   "cell_type": "markdown",
   "metadata": {},
   "source": [
    "title : Dynamic Routing and Scheduling of Mobile Charging Stations for Electric Vehicles Using Deep Reinforcement Learning\n"
   ]
  },
  {
   "cell_type": "markdown",
   "metadata": {},
   "source": [
    "MCSEV问题挑战 ： 1. 使用最少数的MCS来响应最大EV请求\n",
    "                2. 多个请求调度到单个MCS\n",
    "                3.电动汽车请求是随机的  \n",
    "\n",
    "论文主要工作  ： 1. 考虑到充电请求的随机性和移动的充电站在交通网络上的行驶时间\n",
    "                2.最小化五个目标：i）移动的充电站的数量，ii）移动的充电站的行驶时间，iii）充电请求的未命中率，iv）违反充电期限和v）最大需求和固定充电站的拥堵。\n",
    "                3.使用分布式无模型深度强化学习来优化随机性下移动的充电站的实时联合调度和路由"
   ]
  },
  {
   "cell_type": "markdown",
   "metadata": {},
   "source": [
    "论文题目 ：实时需求下的带时间窗移动充电车在线调度算法"
   ]
  },
  {
   "cell_type": "markdown",
   "metadata": {},
   "source": [
    "title : Scheduling and Routing of Mobile Charging Stations With Stochastic Travel Times to Service Heterogeneous Spatiotemporal Electric Vehicle Charging Requests With Time Windows"
   ]
  },
  {
   "cell_type": "code",
   "execution_count": null,
   "metadata": {
    "vscode": {
     "languageId": "plaintext"
    }
   },
   "outputs": [],
   "source": [
    "算法问题 ；最小化充电成本   \n",
    "\n",
    "亮点 ：将移动充电问题拆分为装箱问题和城市旅行商问题\n",
    "\n",
    "本文贡献，建立了MCS运行过程的模型，其创新点在于考虑了MCS行驶时间的随机性，处理了时空异构需求的复杂场景 ；\n",
    "         提出了一个完整的优化问题框架，具体包括了为移动充电站设计调度和路由策略，设置优化目标为最小化车队成本和最小化移动的充电站数量\n",
    "         提出了三种求解方法，精确式，启发式，元启发式"
   ]
  },
  {
   "cell_type": "markdown",
   "metadata": {},
   "source": [
    "前人的研究 ： \n",
    "\n",
    "为了优化策略，前人提出了两种方法，第一种是通过控制定价来控制电动汽车到达充电站，第二种是通过通过优化算法以针对给一组充电器请求调度站的EV充电\n",
    "\n"
   ]
  }
 ],
 "metadata": {
  "language_info": {
   "name": "python"
  }
 },
 "nbformat": 4,
 "nbformat_minor": 2
}
